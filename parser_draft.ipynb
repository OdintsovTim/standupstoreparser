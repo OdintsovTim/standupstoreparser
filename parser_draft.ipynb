{
 "cells": [
  {
   "cell_type": "code",
   "execution_count": 7,
   "metadata": {},
   "outputs": [],
   "source": [
    "!pip install bs4"
   ]
  },
  {
   "cell_type": "code",
   "execution_count": 35,
   "metadata": {},
   "outputs": [],
   "source": [
    "import random\n",
    "import re\n",
    "import requests\n",
    "import time\n",
    "\n",
    "from bs4 import BeautifulSoup\n",
    "from bs4 import Comment"
   ]
  },
  {
   "cell_type": "code",
   "execution_count": 4,
   "metadata": {},
   "outputs": [],
   "source": [
    "# playing with user agents\n",
    "chrome_ua = \"Mozilla/5.0 (Macintosh; Intel Mac OS X 10_10_1) AppleWebKit/537.36 (KHTML, like Gecko) Chrome/39.0.2171.95 Safari/537.36\"\n",
    "safari_ua = \"Mozilla/5.0 (Macintosh; Intel Mac OS X 10_14_6) AppleWebKit/605.1.15 (KHTML, like Gecko) Version/12.1.2 Safari/605.1.15\"\n",
    "headers = {\"User-Agent\": safari_ua}"
   ]
  },
  {
   "cell_type": "code",
   "execution_count": 5,
   "metadata": {},
   "outputs": [],
   "source": [
    "# getting page\n",
    "url = \"http://standupstore.ru/\"\n",
    "response = requests.get(url, headers=headers)\n",
    "html = response.content"
   ]
  },
  {
   "cell_type": "code",
   "execution_count": 6,
   "metadata": {},
   "outputs": [],
   "source": [
    "# actual parsing\n",
    "soup = BeautifulSoup(html,'html.parser')\n",
    "\n",
    "events = soup.findAll('div', class_=\"t778__col\")\n",
    "event1 = events[0]\n",
    "event2 = events[1]\n",
    "event3 = BeautifulSoup(\"\"\"<div class=\"t778__mark\">5 мест</div>\"\"\", \"html.parser\")"
   ]
  },
  {
   "cell_type": "code",
   "execution_count": 44,
   "metadata": {},
   "outputs": [
    {
     "name": "stdout",
     "output_type": "stream",
     "text": [
      "https://ya.ru/\n",
      "len(page_events) by js-product: 0\n",
      "len(page_events) by t778__col: 0\n",
      "len(page_events) by t778__wrapper: 0\n",
      "total events: 0\n",
      "bool(page_events): False\n",
      "\n"
     ]
    }
   ],
   "source": [
    "def get_all_events():\n",
    "    '''Iterates pages and gets events on each page.'''\n",
    "    total_events = []\n",
    "    page_num = 1\n",
    "\n",
    "    page_events = True\n",
    "    while page_events:\n",
    "        page_url = 'https://standupstore.ru/page/{}/'.format(page_num)\n",
    "        page_response = requests.get(page_url, headers=headers)\n",
    "        page_html = page_response.content\n",
    "        page_soup = BeautifulSoup(page_html, 'html.parser')\n",
    "\n",
    "        page_events = page_soup.findAll('div', class_=\"js-product\")\n",
    "        if not page_events:\n",
    "            page_events = page_soup.findAll('div', class_=\"t778__col\")\n",
    "        if not page_events:\n",
    "            page_events = page_soup.findAll('div', class_=\"t778__wrapper\")\n",
    "\n",
    "        if page_events:\n",
    "            events.extend(page_events)\n",
    "            page_num += 1\n",
    "            time.sleep(random.randint(5, 10))\n",
    "        else:\n",
    "            if not total_events:\n",
    "                notify(\"No events were found!\")  # letting know, something \n",
    "                save_html(page_html)             # for further checking\n",
    "\n",
    "    return total_events\n",
    "\n",
    "all_events = get_all_events()"
   ]
  }
 ],
 "metadata": {
  "kernelspec": {
   "display_name": "Python 3",
   "language": "python",
   "name": "python3"
  },
  "language_info": {
   "codemirror_mode": {
    "name": "ipython",
    "version": 3
   },
   "file_extension": ".py",
   "mimetype": "text/x-python",
   "name": "python",
   "nbconvert_exporter": "python",
   "pygments_lexer": "ipython3",
   "version": "3.7.4"
  }
 },
 "nbformat": 4,
 "nbformat_minor": 4
}
